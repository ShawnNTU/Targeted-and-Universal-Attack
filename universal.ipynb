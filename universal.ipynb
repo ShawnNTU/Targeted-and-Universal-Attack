{
 "cells": [
  {
   "cell_type": "code",
   "execution_count": 2,
   "metadata": {},
   "outputs": [],
   "source": [
    "from PIL import Image\n",
    "import numpy as np\n",
    "import matplotlib.pyplot as plt\n",
    "import cv2\n",
    "import torch\n",
    "%matplotlib inline\n",
    "\n",
    "import os, pickle\n",
    "\n",
    "def unpickle(file):\n",
    "    with open(file, 'rb') as fo:\n",
    "        dict = pickle.load(fo, encoding='bytes')\n",
    "    return dict\n",
    "\n",
    "meta = unpickle(\"cifar100/meta\")\n",
    "# train = unpickle(\"cifar100/train\")\n",
    "# test = unpickle(\"cifar100/test\")"
   ]
  },
  {
   "cell_type": "markdown",
   "metadata": {},
   "source": [
    "### Load Labels Names From original CIFAR 100 Dataset"
   ]
  },
  {
   "cell_type": "code",
   "execution_count": 2,
   "metadata": {},
   "outputs": [
    {
     "data": {
      "text/plain": [
       "(['apple', 'aquarium_fish', 'baby', 'bear', 'beaver'], 100)"
      ]
     },
     "execution_count": 2,
     "metadata": {},
     "output_type": "execute_result"
    }
   ],
   "source": [
    "# meta.keys() : dict_keys([b'fine_label_names', b'coarse_label_names'])\n",
    "# meta[b'fine_label_names'] : [b'apple', b'aquarium_fish', b'baby', b'bear', b'beaver'......]\n",
    "label_names = [name.decode() for name in meta[b'fine_label_names']]\n",
    "label_names[:5], len(label_names)"
   ]
  },
  {
   "cell_type": "code",
   "execution_count": 3,
   "metadata": {},
   "outputs": [],
   "source": [
    "def myPicturePlotting(row, col, pictures:list[np.array], name_list=None):\n",
    "    \"\"\"\n",
    "    can plot many pictures of images, and display names optionally\n",
    "    \"\"\"\n",
    "    # length parsing\n",
    "    length = len(pictures)\n",
    "    \n",
    "    # dimension checking\n",
    "    if row*col < length:\n",
    "        row = int(np.sqrt(length)) + 1\n",
    "        col = row    \n",
    "        \n",
    "    fig, axs = plt.subplots(row, col, figsize=(10,10))\n",
    "\n",
    "    idx = 0\n",
    "    if row == 1:\n",
    "        axs = [axs]\n",
    "    if col == 1:\n",
    "        axs = [axs]\n",
    "    \n",
    "    \n",
    "    for r in range(row):\n",
    "        for c in range(col):\n",
    "            axs[r][c].imshow(pictures[idx])\n",
    "            if name_list != None:\n",
    "                axs[r][c].set_title(name_list[idx])\n",
    "                \n",
    "            axs[r][c].set_xticks([])\n",
    "            axs[r][c].set_yticks([])\n",
    "            idx += 1\n",
    "            if length == idx:\n",
    "                break\n",
    "        if length == idx:\n",
    "            break\n",
    "    plt.show()\n",
    "    \n",
    "def normalize(img):\n",
    "    return ((img / 255) - 0.5) / 0.5\n",
    "\n",
    "def denormalize(img:np.ndarray):\n",
    "    return ((img * 0.5) + 0.5) * 255\n",
    "\n",
    "def imgChangeAxis(img:np.ndarray):\n",
    "    \"\"\"\n",
    "    from (N, width, height, 3) to (N, 3, width, height)\n",
    "    or (width, height, 3) to (3, width, height)\n",
    "    \"\"\"\n",
    "    if len(img.shape) == 4:\n",
    "        R = img[:,:,:,0]\n",
    "        G = img[:,:,:,1]\n",
    "        B = img[:,:,:,2]\n",
    "        return np.stack((R,G,B),axis=1)\n",
    "        \n",
    "    elif len(img.shape) == 3:\n",
    "        R = img[:,:,0]\n",
    "        G = img[:,:,1]\n",
    "        B = img[:,:,2]\n",
    "        return np.stack((R,G,B))\n",
    "    else:\n",
    "        raise Exception(\"Dimension Not matching\")\n",
    "    \n",
    "def imgDeChangeAxis(img:np.ndarray):\n",
    "    \"\"\"\n",
    "    from (N, 3, width, height) to (N, width, height, 3)\n",
    "    or (3, width, height) to (width, height, 3)\n",
    "    \"\"\"\n",
    "    if len(img.shape) == 4:\n",
    "        return np.stack((img[:,0],img[:,1],img[:,2]), axis=-1)\n",
    "    elif len(img.shape) == 3:\n",
    "        return np.stack((img[0],img[1],img[2]), axis=-1)\n",
    " "
   ]
  },
  {
   "cell_type": "markdown",
   "metadata": {},
   "source": [
    "### Load Image Data (with labels) and turn into np array"
   ]
  },
  {
   "cell_type": "code",
   "execution_count": 4,
   "metadata": {},
   "outputs": [
    {
     "name": "stdout",
     "output_type": "stream",
     "text": [
      "(3, 32, 32)\n"
     ]
    }
   ],
   "source": [
    "img_list = []\n",
    "label_list = []\n",
    "name_list = []\n",
    "\n",
    "for name in os.listdir(\"./eval\"):\n",
    "    filename = name.split(\".\")[0]\n",
    "    label, index = [int(x) for x in filename.split(\"_\")]\n",
    "    if index >= 2:\n",
    "        continue\n",
    "    \n",
    "    path = f\"eval/{name}\"\n",
    "    img = imgChangeAxis(np.array(Image.open(path))) \n",
    "    img_list.append(img)\n",
    "    label_list.append(label)\n",
    "    name_list.append(name)\n",
    "    \n",
    "print(img_list[0].shape) #,myPicturePlotting(1,1,[imgDeChangeAxis(img_list[0])])"
   ]
  },
  {
   "cell_type": "markdown",
   "metadata": {},
   "source": [
    "# Model Part"
   ]
  },
  {
   "cell_type": "markdown",
   "metadata": {},
   "source": [
    "#### Simple Transformer & prepare the images and labels (turn into tensor and put into GPU)"
   ]
  },
  {
   "cell_type": "code",
   "execution_count": 5,
   "metadata": {},
   "outputs": [],
   "source": [
    "import torch\n",
    "\n",
    "device = \"cuda\"\n",
    "# I use my normalize function :)\n",
    "\n",
    "img_tensor = normalize(torch.tensor(np.stack(img_list))).to(torch.float32).to(device)\n",
    "\n",
    "label_tensor = torch.tensor(np.stack(label_list)).to(torch.int64).to(device)\n",
    "\n",
    "\n",
    "# userful for clear cache\n",
    "def myStrongCacheClear(func):\n",
    "    def wrapper(*args, **kwargs):\n",
    "        with torch.no_grad():\n",
    "            func(*args, **kwargs)\n",
    "            torch.cuda.empty_cache()\n",
    "    return wrapper\n",
    "\n",
    "def myATKCacheClear(func):\n",
    "    def wrapper(*args, **kwargs):\n",
    "        func(*args, **kwargs)\n",
    "        torch.cuda.empty_cache()\n",
    "    return wrapper"
   ]
  },
  {
   "cell_type": "code",
   "execution_count": 6,
   "metadata": {},
   "outputs": [],
   "source": [
    "from pytorchcv.model_provider import get_model as ptcv_get_model\n",
    "import torch\n",
    "\n",
    "resnet20 = ptcv_get_model(\"resnet20_cifar100\", pretrained=True).cuda().eval()"
   ]
  },
  {
   "cell_type": "markdown",
   "metadata": {},
   "source": [
    "### Extend DeepFool attack of torchattacks from L2 to L inf"
   ]
  },
  {
   "cell_type": "code",
   "execution_count": 7,
   "metadata": {},
   "outputs": [],
   "source": [
    "from torchattacks.attack import Attack\n",
    "\n",
    "import torch\n",
    "import torch.nn as nn\n",
    "\n",
    "class myDeepFool(Attack):\n",
    "    r\"\"\"\n",
    "    'DeepFool: A Simple and Accurate Method to Fool Deep Neural Networks'\n",
    "    [https://arxiv.org/abs/1511.04599]\n",
    "    Distance Measure : L2 ( torchattacks version )\n",
    "    Distance Measure : L inf ( My version )\n",
    "    Arguments:\n",
    "        model (nn.Module): model to attack.\n",
    "        steps (int): number of steps. (Default: 50)\n",
    "        overshoot (float): parameter for enhancing the noise. (Default: 0.02)\n",
    "    Shape:\n",
    "        - images: :math:`(N, C, H, W)` where `N = number of batches`, `C = number of channels`,        `H = height` and `W = width`. It must have a range [0, 1].\n",
    "        - labels: :math:`(N)` where each value :math:`y_i` is :math:`0 \\leq y_i \\leq` `number of labels`.\n",
    "        - output: :math:`(N, C, H, W)`.\n",
    "    Examples::\n",
    "        >>> attack = torchattacks.DeepFool(model, steps=50, overshoot=0.02)\n",
    "        >>> adv_images = attack(images, labels)\n",
    "    \"\"\"\n",
    "\n",
    "    def __init__(self, model, steps=50, overshoot=0.02):\n",
    "        super().__init__(\"DeepFool\", model)\n",
    "        self.steps = steps\n",
    "        self.overshoot = overshoot\n",
    "        self.supported_mode = [\"default\"]\n",
    "\n",
    "    def forward(self, images, labels):\n",
    "        r\"\"\"\n",
    "        Overridden.\n",
    "        \"\"\"\n",
    "        adv_images, target_labels = self.forward_return_target_labels(images, labels)\n",
    "        return adv_images\n",
    "\n",
    "    def forward_return_target_labels(self, images, labels):\n",
    "        r\"\"\"\n",
    "        Overridden.\n",
    "        \"\"\"\n",
    "        images = images.clone().detach().to(self.device)\n",
    "        labels = labels.clone().detach().to(self.device)\n",
    "\n",
    "        batch_size = len(images)\n",
    "        correct = torch.tensor([True] * batch_size)\n",
    "        target_labels = labels.clone().detach().to(self.device)\n",
    "        curr_steps = 0\n",
    "\n",
    "        adv_images = []\n",
    "        # notice that we only pass one img into deepfool\n",
    "        for idx in range(batch_size):\n",
    "            image = images[idx : idx + 1].clone().detach()\n",
    "            adv_images.append(image)\n",
    "\n",
    "        while (True in correct) and (curr_steps < self.steps):\n",
    "            for idx in range(batch_size):\n",
    "                if not correct[idx]:\n",
    "                    continue\n",
    "                early_stop, pre, adv_image = self._forward_indiv(\n",
    "                    adv_images[idx], labels[idx]\n",
    "                )\n",
    "                adv_images[idx] = adv_image\n",
    "                target_labels[idx] = pre\n",
    "                if early_stop:\n",
    "                    correct[idx] = False\n",
    "            curr_steps += 1\n",
    "\n",
    "        if curr_steps == self.steps:\n",
    "            raise Exception(\"not Converge\")\n",
    "        \n",
    "        adv_images = torch.cat(adv_images).detach()\n",
    "        return adv_images, target_labels\n",
    "\n",
    "    def _forward_indiv(self, image, label):\n",
    "        image.requires_grad = True\n",
    "        fs = self.get_logits(image)[0]\n",
    "        _, pre = torch.max(fs, dim=0)\n",
    "        if pre != label:\n",
    "            return (True, pre, image)\n",
    "\n",
    "        ws = self._construct_jacobian(fs, image)\n",
    "        image = image.detach()\n",
    "\n",
    "        f_0 = fs[label]\n",
    "        w_0 = ws[label]\n",
    "\n",
    "        wrong_classes = [i for i in range(len(fs)) if i != label]\n",
    "        f_k = fs[wrong_classes]\n",
    "        w_k = ws[wrong_classes]\n",
    "\n",
    "        f_prime = f_k - f_0\n",
    "        w_prime = w_k - w_0\n",
    "        # value = torch.abs(f_prime) / torch.norm(nn.Flatten()(w_prime), p=2, dim=1)\n",
    "        value = torch.abs(f_prime) / torch.norm(nn.Flatten()(w_prime), p = 1, dim=1)\n",
    "        _, hat_L = torch.min(value, 0)\n",
    "\n",
    "        # delta = (\n",
    "        #     torch.abs(f_prime[hat_L])\n",
    "        #     * w_prime[hat_L]\n",
    "        #     / (torch.norm(w_prime[hat_L], p=2) ** 2)\n",
    "        # )\n",
    "        \n",
    "        delta = (\n",
    "            torch.abs(f_prime[hat_L])\n",
    "            * torch.sign(w_prime[hat_L])\n",
    "            / torch.norm(w_prime[hat_L], p = 1)\n",
    "        )\n",
    "\n",
    "        target_label = hat_L if hat_L < label else hat_L + 1\n",
    "\n",
    "        adv_image = image + (1 + self.overshoot) * delta\n",
    "        adv_image = torch.clamp(adv_image, min=0, max=1).detach()\n",
    "        return (False, target_label, adv_image)\n",
    "\n",
    "    # https://stackoverflow.com/questions/63096122/pytorch-is-it-possible-to-differentiate-a-matrix\n",
    "    # torch.autograd.functional.jacobian is only for torch >= 1.5.1\n",
    "    def _construct_jacobian(self, y, x):\n",
    "        x_grads = []\n",
    "        for idx, y_element in enumerate(y):\n",
    "            if x.grad is not None:\n",
    "                x.grad.zero_()\n",
    "            y_element.backward(retain_graph=(False or idx + 1 < len(y)))\n",
    "            x_grads.append(x.grad.clone().detach())\n",
    "        return torch.stack(x_grads).reshape(*y.shape, *x.shape)\n"
   ]
  },
  {
   "cell_type": "code",
   "execution_count": 8,
   "metadata": {},
   "outputs": [
    {
     "data": {
      "text/plain": [
       "(tensor(-1., device='cuda:0'), tensor(1., device='cuda:0'))"
      ]
     },
     "execution_count": 8,
     "metadata": {},
     "output_type": "execute_result"
    }
   ],
   "source": [
    "temp = myDeepFool(resnet20.cuda(), steps=20, overshoot=0.02)\n",
    "temp.set_device('cuda')\n",
    "temp.set_normalization_used(mean=[0.5,0.5,0.5], std=[0.5,0.5,0.5])\n",
    "adv = temp(img_tensor[:1], label_tensor[:1])\n",
    "adv.min(), adv.max()"
   ]
  },
  {
   "cell_type": "markdown",
   "metadata": {},
   "source": [
    "### modify UAT from tensorflow to pytorch"
   ]
  },
  {
   "cell_type": "code",
   "execution_count": 9,
   "metadata": {},
   "outputs": [],
   "source": [
    "def proj_lp(v, xi, p):\n",
    "    return torch.sign(v) * torch.minimum(torch.abs(v), torch.ones(v.shape).to('cuda') * xi)\n",
    "\n",
    "    # Project on the lp ball centered at 0 and of radius xi\n",
    "\n",
    "    # SUPPORTS only p = 2 and p = Inf for now\n",
    "    # if p == 2:\n",
    "    #     v = v * min(1, xi/np.linalg.norm(v.flatten(1)))\n",
    "    #     # v = v / np.linalg.norm(v.flatten(1)) * xi\n",
    "    # elif p == np.inf:\n",
    "    #     v = np.sign(v) * np.minimum(abs(v), xi)\n",
    "    # else:\n",
    "    #      raise ValueError('Values of p different from 2 and Inf are currently not supported...')\n",
    "\n",
    "    # return v\n",
    "\n",
    "def universal_perturbation(img_tensor, label_tensor, model:nn.Module, delta=0.2, max_iter_uni = np.inf, xi = 10 / 255 / 0.5, p=np.inf, overshoot=0.02, max_iter_df=10):\n",
    "    \"\"\"\n",
    "    :param dataset: Images of size MxHxWxC (M: number of images)\n",
    "\n",
    "    :param model: feedforward function i.e. model (input: images, output: values of activation BEFORE softmax).\n",
    "\n",
    "    :param grads: gradient functions with respect to input (as many gradients as classes).\n",
    "\n",
    "    :param delta: controls the desired fooling rate (default = 80% fooling rate)\n",
    "\n",
    "    :param max_iter_uni: optional other termination criterion (maximum number of iteration, default = np.inf)\n",
    "\n",
    "    :param xi: controls the l_p magnitude of the perturbation (default = 10)\n",
    "\n",
    "    :param p: norm to be used (FOR NOW, ONLY p = 2, and p = np.inf ARE ACCEPTED!) (default = np.inf)\n",
    "\n",
    "    :param overshoot: used as a termination criterion to prevent vanishing updates (default = 0.02).\n",
    "\n",
    "    :param max_iter_df: maximum number of iterations for deepfool (default = 10)\n",
    "\n",
    "    :return: the universal perturbation.\n",
    "    \"\"\"\n",
    "\n",
    "    deepfool = myDeepFool(model.cuda(), steps=max_iter_df, overshoot=overshoot)\n",
    "    deepfool.set_device('cuda')\n",
    "    deepfool.set_normalization_used(mean=[0.5,0.5,0.5], std=[0.5,0.5,0.5])\n",
    "    \n",
    "    v = 0\n",
    "    fooling_rate_list = []\n",
    "    fooling_rate = 0.0\n",
    "    N, _, _,_ =  img_tensor.shape # The images should be stacked ALONG FIRST DIMENSION\n",
    "\n",
    "    iter = 0\n",
    "    while fooling_rate < 1-delta and iter < max_iter_uni:\n",
    "        # Shuffle the dataset\n",
    "        # torch.random.shuffle(dataset)\n",
    "        bag_size = int(N / 1)\n",
    "        img = img_tensor[np.random.choice(N, bag_size)]\n",
    "\n",
    "        print (f'Iter:{iter}',end='\\r')\n",
    "\n",
    "        # Go through the data set and compute the perturbation increments sequentially\n",
    "        for k in range(0, bag_size):\n",
    "            cur_img = img[k:(k+1), :, :, :]\n",
    "            true_label = label_tensor[k:(k+1)].item()\n",
    "            model_pred = torch.argmax(model(cur_img)).item()\n",
    "            pert_pred = torch.argmax(model(cur_img + v)).item()\n",
    "            # if model_pred != true_label:\n",
    "                # print(f\"already diff:{model_pred},{true_label}\")\n",
    "                # continue\n",
    "            if model_pred == pert_pred:\n",
    "                # print('>> k = ', k, ', pass #', iter)\n",
    "\n",
    "                # Compute adversarial perturbation\n",
    "                try:\n",
    "                    adv = deepfool(cur_img + v, label_tensor)\n",
    "                    dr = adv - cur_img\n",
    "                    v = v + dr\n",
    "                    v = proj_lp(v, xi, p)\n",
    "                except Exception as e:\n",
    "                    print(e)\n",
    "                    pass # not converged\n",
    "\n",
    "        iter = iter + 1\n",
    "\n",
    "        model.eval()\n",
    "        model.cuda()\n",
    "        correct_num = 0\n",
    "        idx = 0\n",
    "        while idx < len(label_tensor):\n",
    "            correct_num += torch.eq(torch.argmax(model(img_tensor[idx:idx+64] + v), dim=1), label_tensor[idx:idx+64]).sum().item()\n",
    "            idx += 64\n",
    "        fooling_rate = 1 - correct_num / N\n",
    "        fooling_rate_list.append(fooling_rate)\n",
    "        print('FOOLING RATE = ', fooling_rate)\n",
    "\n",
    "    return v, iter, fooling_rate_list"
   ]
  },
  {
   "cell_type": "code",
   "execution_count": 28,
   "metadata": {},
   "outputs": [],
   "source": [
    "# temp = myDeepFool(resnet20.cuda(), steps=20, overshoot=0.02)\n",
    "# temp.set_device('cuda')\n",
    "# temp.set_normalization_used(mean=[0.5,0.5,0.5], std=[0.5,0.5,0.5])\n",
    "# temp(img_tensor[0:1], label_tensor[0:1])"
   ]
  },
  {
   "cell_type": "markdown",
   "metadata": {},
   "source": [
    "### Start 5 attacks"
   ]
  },
  {
   "cell_type": "code",
   "execution_count": null,
   "metadata": {},
   "outputs": [],
   "source": [
    "v1, iter, fooling_rate_list1 = universal_perturbation(img_tensor, label_tensor, resnet20, delta = 0.01, max_iter_uni = 10, xi = 12 / 255 / 0.5, overshoot = 0.005, max_iter_df = 20)\n",
    "v2, iter, fooling_rate_list2 = universal_perturbation(img_tensor, label_tensor, resnet20, delta = 0.01, max_iter_uni = 10, xi = 12 / 255 / 0.5, overshoot = 0.005, max_iter_df = 20)\n",
    "v3, iter, fooling_rate_list3 = universal_perturbation(img_tensor, label_tensor, resnet20, delta = 0.01, max_iter_uni = 10, xi = 12 / 255 / 0.5, overshoot = 0.005, max_iter_df = 20)\n",
    "v4, iter, fooling_rate_list4 = universal_perturbation(img_tensor, label_tensor, resnet20, delta = 0.01, max_iter_uni = 10, xi = 12 / 255 / 0.5, overshoot = 0.005, max_iter_df = 20)\n",
    "v5, iter, fooling_rate_list5 = universal_perturbation(img_tensor, label_tensor, resnet20, delta = 0.01, max_iter_uni = 10, xi = 12 / 255 / 0.5, overshoot = 0.005, max_iter_df = 20)"
   ]
  },
  {
   "cell_type": "code",
   "execution_count": 23,
   "metadata": {},
   "outputs": [],
   "source": [
    "# torch.argmax(resnet20(img_tensor + v1), dim=1)"
   ]
  },
  {
   "cell_type": "markdown",
   "metadata": {},
   "source": [
    "### plotting out result"
   ]
  },
  {
   "cell_type": "code",
   "execution_count": 126,
   "metadata": {},
   "outputs": [
    {
     "data": {
      "text/plain": [
       "<matplotlib.legend.Legend at 0x1cbbeb7f7f0>"
      ]
     },
     "execution_count": 126,
     "metadata": {},
     "output_type": "execute_result"
    },
    {
     "data": {
      "image/png": "[encoded data removed]",
      "text/plain": [
       "<Figure size 500x400 with 1 Axes>"
      ]
     },
     "metadata": {},
     "output_type": "display_data"
    }
   ],
   "source": [
    "plt.figure(figsize=(5,4))\n",
    "plt.ylim([0.8,0.9])\n",
    "plt.ylabel(\"fooliing rate\", fontsize=14)\n",
    "plt.xlabel(\"iteration\", fontsize=14)\n",
    "plt.yticks(fontsize=14)\n",
    "plt.xticks(fontsize=14)\n",
    "plt.plot(range(iter),fooling_rate_list1, label=\"1\")\n",
    "plt.scatter(range(iter),fooling_rate_list1, marker='o')\n",
    "plt.plot(range(iter),fooling_rate_list2, label=\"2\")\n",
    "plt.scatter(range(iter),fooling_rate_list2, marker='^', s=40)\n",
    "plt.plot(range(iter),fooling_rate_list3, label=\"3\")\n",
    "plt.scatter(range(iter),fooling_rate_list3, marker='v')\n",
    "plt.plot(range(iter),fooling_rate_list4, label=\"4\")\n",
    "plt.scatter(range(iter),fooling_rate_list4, marker='s')\n",
    "plt.plot(range(iter),fooling_rate_list5, label=\"5\")\n",
    "plt.scatter(range(iter),fooling_rate_list5, marker='p', s=10)\n",
    "plt.legend()"
   ]
  },
  {
   "cell_type": "markdown",
   "metadata": {},
   "source": [
    "### Save pertubation"
   ]
  },
  {
   "cell_type": "code",
   "execution_count": 42,
   "metadata": {},
   "outputs": [],
   "source": [
    "pert = (v1.cpu().numpy() * 0.5) * 255 + 12\n",
    "pert_img = Image.fromarray(imgDeChangeAxis(pert).astype(np.uint8)[0])\n",
    "pert_img.save(\"universal.png\")\n"
   ]
  },
  {
   "cell_type": "markdown",
   "metadata": {},
   "source": [
    "### Checking"
   ]
  },
  {
   "cell_type": "code",
   "execution_count": 47,
   "metadata": {},
   "outputs": [
    {
     "data": {
      "text/plain": [
       "(3, 32, 32)"
      ]
     },
     "execution_count": 47,
     "metadata": {},
     "output_type": "execute_result"
    }
   ],
   "source": [
    "pert_check = imgChangeAxis(np.array(Image.open(\"universal.png\"))).astype(np.int16)\n",
    "pert_check.shape"
   ]
  },
  {
   "cell_type": "code",
   "execution_count": 48,
   "metadata": {},
   "outputs": [
    {
     "data": {
      "text/plain": [
       "tensor([[[[-0.0941, -0.0941, -0.0941,  ..., -0.0941,  0.0941,  0.0941],\n",
       "          [ 0.0941, -0.0941,  0.0941,  ...,  0.0941,  0.0941, -0.0941],\n",
       "          [ 0.0941,  0.0941,  0.0941,  ...,  0.0941, -0.0941, -0.0941],\n",
       "          ...,\n",
       "          [ 0.0941,  0.0941, -0.0941,  ...,  0.0941, -0.0941, -0.0941],\n",
       "          [ 0.0941,  0.0941, -0.0941,  ...,  0.0941, -0.0941,  0.0941],\n",
       "          [-0.0941, -0.0941, -0.0941,  ..., -0.0941,  0.0941,  0.0941]],\n",
       "\n",
       "         [[ 0.0941,  0.0941, -0.0941,  ..., -0.0941,  0.0941,  0.0941],\n",
       "          [ 0.0941, -0.0941, -0.0941,  ..., -0.0941,  0.0941,  0.0941],\n",
       "          [-0.0941,  0.0941,  0.0941,  ...,  0.0941,  0.0941,  0.0941],\n",
       "          ...,\n",
       "          [ 0.0941,  0.0941,  0.0941,  ...,  0.0941, -0.0941, -0.0941],\n",
       "          [ 0.0941,  0.0941, -0.0941,  ...,  0.0941, -0.0941,  0.0941],\n",
       "          [-0.0941, -0.0941,  0.0941,  ..., -0.0941,  0.0941, -0.0941]],\n",
       "\n",
       "         [[-0.0941,  0.0941,  0.0941,  ...,  0.0941, -0.0941,  0.0941],\n",
       "          [-0.0941, -0.0941, -0.0941,  ..., -0.0941, -0.0941,  0.0941],\n",
       "          [-0.0941,  0.0941,  0.0941,  ..., -0.0941, -0.0941,  0.0941],\n",
       "          ...,\n",
       "          [ 0.0941,  0.0941,  0.0941,  ...,  0.0941,  0.0941, -0.0941],\n",
       "          [ 0.0941,  0.0941, -0.0941,  ...,  0.0941, -0.0941, -0.0941],\n",
       "          [-0.0941, -0.0941,  0.0941,  ..., -0.0941, -0.0941, -0.0941]]]],\n",
       "       device='cuda:0')"
      ]
     },
     "execution_count": 48,
     "metadata": {},
     "output_type": "execute_result"
    }
   ],
   "source": [
    "v = (torch.tensor(pert_check).reshape(1,3,32,32).cuda() - 12) / 255 / 0.5\n",
    "v"
   ]
  },
  {
   "cell_type": "code",
   "execution_count": 49,
   "metadata": {},
   "outputs": [
    {
     "data": {
      "text/plain": [
       "0.89"
      ]
     },
     "execution_count": 49,
     "metadata": {},
     "output_type": "execute_result"
    }
   ],
   "source": [
    "model = resnet20.cuda().eval()\n",
    "correct_num = 0\n",
    "idx = 0\n",
    "while idx < len(label_tensor):\n",
    "    correct_num += torch.eq(torch.argmax(model(img_tensor[idx:idx+64] + v), dim=1), label_tensor[idx:idx+64]).sum().item()\n",
    "    idx += 64\n",
    "fooling_rate = 1 - correct_num / 200\n",
    "fooling_rate"
   ]
  }
 ],
 "metadata": {
  "kernelspec": {
   "display_name": "base",
   "language": "python",
   "name": "python3"
  },
  "language_info": {
   "codemirror_mode": {
    "name": "ipython",
    "version": 3
   },
   "file_extension": ".py",
   "mimetype": "text/x-python",
   "name": "python",
   "nbconvert_exporter": "python",
   "pygments_lexer": "ipython3",
   "version": "3.10.8"
  }
 },
 "nbformat": 4,
 "nbformat_minor": 2
}
